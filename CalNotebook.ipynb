{
    "cells": [
        {
            "cell_type": "markdown",
            "metadata": {
                "collapsed": true
            },
            "source": "# My Jupyter Notebook on IBM Watson Studio"
        },
        {
            "cell_type": "markdown",
            "metadata": {},
            "source": "**Calvin Atewamba**\n\nResearcher"
        },
        {
            "cell_type": "markdown",
            "metadata": {},
            "source": "*I am interested in Data Science because I want to be able to analyze \nand uncover insights hiden in structured and unstructured datasets in \nthe field of environmental economics*"
        },
        {
            "cell_type": "markdown",
            "metadata": {},
            "source": "### The following code compute the area of a circle "
        },
        {
            "cell_type": "code",
            "execution_count": 5,
            "metadata": {},
            "outputs": [
                {
                    "data": {
                        "text/plain": "7853.981633974483"
                    },
                    "execution_count": 5,
                    "metadata": {},
                    "output_type": "execute_result"
                }
            ],
            "source": "import math\ndef circle(r):\n    return math.pi*r**2\n\ncircle(50)"
        },
        {
            "cell_type": "markdown",
            "metadata": {},
            "source": "#### Student's scores\n\nStudents |  Maths  | Physics\n---------|-------- |--------\nCalvin   | 90      | 80     \nStephen  | 80      | 70     \nNadege   | 100     | 50     \n\n#### Sustainable Development\n\nThe vision of Sustainable Development shared by the majority of authors retains three dimensions:\n    \n    1. the economic dimension that recommends a reasonable use of resources;\n    2. the social dimension which implies the fair treatment of all;\n    3. the environmental dimension which suggests the protection of the environment.\n    \n#### link to Google website \n\nhttps://www.google.com\n    \n"
        },
        {
            "cell_type": "code",
            "execution_count": null,
            "metadata": {},
            "outputs": [],
            "source": ""
        }
    ],
    "metadata": {
        "kernelspec": {
            "display_name": "Python 3.7",
            "language": "python",
            "name": "python3"
        },
        "language_info": {
            "codemirror_mode": {
                "name": "ipython",
                "version": 3
            },
            "file_extension": ".py",
            "mimetype": "text/x-python",
            "name": "python",
            "nbconvert_exporter": "python",
            "pygments_lexer": "ipython3",
            "version": "3.7.10"
        }
    },
    "nbformat": 4,
    "nbformat_minor": 1
}